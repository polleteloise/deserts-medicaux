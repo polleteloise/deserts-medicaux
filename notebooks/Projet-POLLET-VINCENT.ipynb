{
 "cells": [
  {
   "cell_type": "markdown",
   "metadata": {},
   "source": [
    "# Projet - Déserts Médicaux"
   ]
  },
  {
   "cell_type": "markdown",
   "metadata": {},
   "source": [
    "## Eloïse Pollet & Sarah Vincent"
   ]
  },
  {
   "cell_type": "markdown",
   "metadata": {},
   "source": [
    "Ce projet a pour but d'analyser les déserts médicaux en France, grâce à l'identification d'un ou plusieurs indices de déserts médicaux, par professions. Dans l'objectif de rendre visuelle cette analyse, nous utilisons un tableau de bord."
   ]
  },
  {
   "cell_type": "markdown",
   "metadata": {},
   "source": [
    "## Préparation des données"
   ]
  },
  {
   "cell_type": "code",
   "execution_count": 1,
   "metadata": {},
   "outputs": [],
   "source": [
    "import pandas as pd\n",
    "import os\n",
    "import seaborn as sns\n",
    "import numpy as np\n",
    "import matplotlib.pyplot as plt\n",
    "from sklearn.preprocessing import MinMaxScaler\n",
    "from sklearn import preprocessing\n",
    "import ipywidgets as widgets\n",
    "from ipywidgets import interact, interactive, fixed, interact_manual\n",
    "from IPython.display import display\n",
    "import warnings\n",
    "warnings.filterwarnings(\"ignore\")"
   ]
  },
  {
   "cell_type": "code",
   "execution_count": 2,
   "metadata": {},
   "outputs": [],
   "source": [
    "# déclaration des constantes \n",
    "DATA_DIR = '../data/external/'\n",
    "PROCESSED_DIR = '../data/processed/'\n",
    "\n",
    "CITIES_FILENAME = 'base-cc-filosofi-2015.xls'\n",
    "PS_CITIES_FILENAME= 'PS_communes.csv'\n",
    "ANALYSIS_FILENAME = 'analyse_df.csv'"
   ]
  },
  {
   "cell_type": "code",
   "execution_count": 3,
   "metadata": {},
   "outputs": [],
   "source": [
    "analyse_df = pd.read_csv(os.path.join(DATA_DIR, ANALYSIS_FILENAME), \n",
    "                         sep=';', \n",
    "                         dtype={'CODGEO': str, 'codecommuneetablissement': str},\n",
    "                        )"
   ]
  },
  {
   "cell_type": "code",
   "execution_count": 4,
   "metadata": {},
   "outputs": [
    {
     "data": {
      "text/plain": [
       "[(0, 'codecommuneetablissement'),\n",
       " (1, 'ambulance'),\n",
       " (2, 'analyse_medicale'),\n",
       " (3, 'autre'),\n",
       " (4, 'autre_specialiste'),\n",
       " (5, 'chirurgien'),\n",
       " (6, 'dentiste'),\n",
       " (7, 'generaliste'),\n",
       " (8, 'hopital'),\n",
       " (9, 'infirmiers'),\n",
       " (10, 'organe'),\n",
       " (11, 'radiologiste'),\n",
       " (12, 'reeducateur_podologue'),\n",
       " (13, 'CODGEO'),\n",
       " (14, 'LIBGEO'),\n",
       " (15, 'NBMENFISC15'),\n",
       " (16, 'NBPERSMENFISC15'),\n",
       " (17, 'MED15'),\n",
       " (18, 'PIMP15'),\n",
       " (19, 'TP6015'),\n",
       " (20, 'TP60AGE115'),\n",
       " (21, 'TP60AGE215'),\n",
       " (22, 'TP60AGE315'),\n",
       " (23, 'TP60AGE415'),\n",
       " (24, 'TP60AGE515'),\n",
       " (25, 'TP60AGE615'),\n",
       " (26, 'TP60TOL115'),\n",
       " (27, 'TP60TOL215'),\n",
       " (28, 'PACT15'),\n",
       " (29, 'PTSA15'),\n",
       " (30, 'PCHO15'),\n",
       " (31, 'PBEN15'),\n",
       " (32, 'PPEN15'),\n",
       " (33, 'PPAT15'),\n",
       " (34, 'PPSOC15'),\n",
       " (35, 'PPFAM15'),\n",
       " (36, 'PPMINI15'),\n",
       " (37, 'PPLOGT15'),\n",
       " (38, 'PIMPOT15'),\n",
       " (39, 'D115'),\n",
       " (40, 'D915'),\n",
       " (41, 'RD15'),\n",
       " (42, '_merge')]"
      ]
     },
     "execution_count": 4,
     "metadata": {},
     "output_type": "execute_result"
    }
   ],
   "source": [
    "#POUR AVOIR LA LISTE NUMEROTEE DES COLONNES EN CAS DE WARNING DU READ_CSV\n",
    "list(enumerate(analyse_df.columns))"
   ]
  },
  {
   "cell_type": "code",
   "execution_count": 5,
   "metadata": {},
   "outputs": [
    {
     "data": {
      "text/plain": [
       "(35922, 43)"
      ]
     },
     "execution_count": 5,
     "metadata": {},
     "output_type": "execute_result"
    }
   ],
   "source": [
    "analyse_df.shape"
   ]
  },
  {
   "cell_type": "code",
   "execution_count": 6,
   "metadata": {},
   "outputs": [
    {
     "data": {
      "text/html": [
       "<div>\n",
       "<style scoped>\n",
       "    .dataframe tbody tr th:only-of-type {\n",
       "        vertical-align: middle;\n",
       "    }\n",
       "\n",
       "    .dataframe tbody tr th {\n",
       "        vertical-align: top;\n",
       "    }\n",
       "\n",
       "    .dataframe thead th {\n",
       "        text-align: right;\n",
       "    }\n",
       "</style>\n",
       "<table border=\"1\" class=\"dataframe\">\n",
       "  <thead>\n",
       "    <tr style=\"text-align: right;\">\n",
       "      <th></th>\n",
       "      <th>codecommuneetablissement</th>\n",
       "      <th>ambulance</th>\n",
       "      <th>analyse_medicale</th>\n",
       "      <th>autre</th>\n",
       "      <th>autre_specialiste</th>\n",
       "      <th>chirurgien</th>\n",
       "      <th>dentiste</th>\n",
       "      <th>generaliste</th>\n",
       "      <th>hopital</th>\n",
       "      <th>infirmiers</th>\n",
       "      <th>...</th>\n",
       "      <th>PPAT15</th>\n",
       "      <th>PPSOC15</th>\n",
       "      <th>PPFAM15</th>\n",
       "      <th>PPMINI15</th>\n",
       "      <th>PPLOGT15</th>\n",
       "      <th>PIMPOT15</th>\n",
       "      <th>D115</th>\n",
       "      <th>D915</th>\n",
       "      <th>RD15</th>\n",
       "      <th>_merge</th>\n",
       "    </tr>\n",
       "  </thead>\n",
       "  <tbody>\n",
       "    <tr>\n",
       "      <th>0</th>\n",
       "      <td>01001</td>\n",
       "      <td>0.0</td>\n",
       "      <td>0.0</td>\n",
       "      <td>0.0</td>\n",
       "      <td>0.0</td>\n",
       "      <td>0.0</td>\n",
       "      <td>0.0</td>\n",
       "      <td>0.0</td>\n",
       "      <td>0.0</td>\n",
       "      <td>0.0</td>\n",
       "      <td>...</td>\n",
       "      <td>NaN</td>\n",
       "      <td>NaN</td>\n",
       "      <td>NaN</td>\n",
       "      <td>NaN</td>\n",
       "      <td>NaN</td>\n",
       "      <td>NaN</td>\n",
       "      <td>NaN</td>\n",
       "      <td>NaN</td>\n",
       "      <td>NaN</td>\n",
       "      <td>both</td>\n",
       "    </tr>\n",
       "    <tr>\n",
       "      <th>1</th>\n",
       "      <td>01002</td>\n",
       "      <td>0.0</td>\n",
       "      <td>0.0</td>\n",
       "      <td>1.0</td>\n",
       "      <td>0.0</td>\n",
       "      <td>0.0</td>\n",
       "      <td>0.0</td>\n",
       "      <td>0.0</td>\n",
       "      <td>0.0</td>\n",
       "      <td>0.0</td>\n",
       "      <td>...</td>\n",
       "      <td>NaN</td>\n",
       "      <td>NaN</td>\n",
       "      <td>NaN</td>\n",
       "      <td>NaN</td>\n",
       "      <td>NaN</td>\n",
       "      <td>NaN</td>\n",
       "      <td>NaN</td>\n",
       "      <td>NaN</td>\n",
       "      <td>NaN</td>\n",
       "      <td>both</td>\n",
       "    </tr>\n",
       "    <tr>\n",
       "      <th>2</th>\n",
       "      <td>01004</td>\n",
       "      <td>1.0</td>\n",
       "      <td>4.0</td>\n",
       "      <td>21.0</td>\n",
       "      <td>35.0</td>\n",
       "      <td>9.0</td>\n",
       "      <td>15.0</td>\n",
       "      <td>25.0</td>\n",
       "      <td>8.0</td>\n",
       "      <td>32.0</td>\n",
       "      <td>...</td>\n",
       "      <td>9.5</td>\n",
       "      <td>6.7</td>\n",
       "      <td>2.7</td>\n",
       "      <td>2.0</td>\n",
       "      <td>2.0</td>\n",
       "      <td>-15.8</td>\n",
       "      <td>10398.571429</td>\n",
       "      <td>33801.200000</td>\n",
       "      <td>3.250562</td>\n",
       "      <td>both</td>\n",
       "    </tr>\n",
       "    <tr>\n",
       "      <th>3</th>\n",
       "      <td>01005</td>\n",
       "      <td>0.0</td>\n",
       "      <td>0.0</td>\n",
       "      <td>0.0</td>\n",
       "      <td>0.0</td>\n",
       "      <td>0.0</td>\n",
       "      <td>0.0</td>\n",
       "      <td>2.0</td>\n",
       "      <td>0.0</td>\n",
       "      <td>4.0</td>\n",
       "      <td>...</td>\n",
       "      <td>NaN</td>\n",
       "      <td>NaN</td>\n",
       "      <td>NaN</td>\n",
       "      <td>NaN</td>\n",
       "      <td>NaN</td>\n",
       "      <td>NaN</td>\n",
       "      <td>NaN</td>\n",
       "      <td>NaN</td>\n",
       "      <td>NaN</td>\n",
       "      <td>both</td>\n",
       "    </tr>\n",
       "    <tr>\n",
       "      <th>4</th>\n",
       "      <td>01007</td>\n",
       "      <td>0.0</td>\n",
       "      <td>0.0</td>\n",
       "      <td>3.0</td>\n",
       "      <td>0.0</td>\n",
       "      <td>0.0</td>\n",
       "      <td>0.0</td>\n",
       "      <td>5.0</td>\n",
       "      <td>0.0</td>\n",
       "      <td>4.0</td>\n",
       "      <td>...</td>\n",
       "      <td>8.1</td>\n",
       "      <td>4.0</td>\n",
       "      <td>2.4</td>\n",
       "      <td>0.8</td>\n",
       "      <td>0.8</td>\n",
       "      <td>-15.1</td>\n",
       "      <td>13620.666667</td>\n",
       "      <td>34606.923077</td>\n",
       "      <td>2.540766</td>\n",
       "      <td>both</td>\n",
       "    </tr>\n",
       "  </tbody>\n",
       "</table>\n",
       "<p>5 rows × 43 columns</p>\n",
       "</div>"
      ],
      "text/plain": [
       "  codecommuneetablissement  ambulance  analyse_medicale  autre  \\\n",
       "0                    01001        0.0               0.0    0.0   \n",
       "1                    01002        0.0               0.0    1.0   \n",
       "2                    01004        1.0               4.0   21.0   \n",
       "3                    01005        0.0               0.0    0.0   \n",
       "4                    01007        0.0               0.0    3.0   \n",
       "\n",
       "   autre_specialiste  chirurgien  dentiste  generaliste  hopital  infirmiers  \\\n",
       "0                0.0         0.0       0.0          0.0      0.0         0.0   \n",
       "1                0.0         0.0       0.0          0.0      0.0         0.0   \n",
       "2               35.0         9.0      15.0         25.0      8.0        32.0   \n",
       "3                0.0         0.0       0.0          2.0      0.0         4.0   \n",
       "4                0.0         0.0       0.0          5.0      0.0         4.0   \n",
       "\n",
       "    ...    PPAT15  PPSOC15  PPFAM15 PPMINI15 PPLOGT15  PIMPOT15          D115  \\\n",
       "0   ...       NaN      NaN      NaN      NaN      NaN       NaN           NaN   \n",
       "1   ...       NaN      NaN      NaN      NaN      NaN       NaN           NaN   \n",
       "2   ...       9.5      6.7      2.7      2.0      2.0     -15.8  10398.571429   \n",
       "3   ...       NaN      NaN      NaN      NaN      NaN       NaN           NaN   \n",
       "4   ...       8.1      4.0      2.4      0.8      0.8     -15.1  13620.666667   \n",
       "\n",
       "           D915      RD15  _merge  \n",
       "0           NaN       NaN    both  \n",
       "1           NaN       NaN    both  \n",
       "2  33801.200000  3.250562    both  \n",
       "3           NaN       NaN    both  \n",
       "4  34606.923077  2.540766    both  \n",
       "\n",
       "[5 rows x 43 columns]"
      ]
     },
     "execution_count": 6,
     "metadata": {},
     "output_type": "execute_result"
    }
   ],
   "source": [
    "analyse_df.head()"
   ]
  },
  {
   "cell_type": "markdown",
   "metadata": {},
   "source": [
    "### 74 communes ne sont pas dans les deux ficihiers, nous les supprimons"
   ]
  },
  {
   "cell_type": "code",
   "execution_count": 7,
   "metadata": {},
   "outputs": [
    {
     "data": {
      "text/plain": [
       "97    67\n",
       "98     6\n",
       "29     1\n",
       "Name: codecommuneetablissement, dtype: int64"
      ]
     },
     "execution_count": 7,
     "metadata": {},
     "output_type": "execute_result"
    }
   ],
   "source": [
    "analyse_df.loc[analyse_df.CODGEO.isnull()]['codecommuneetablissement'].str[:2].value_counts()"
   ]
  },
  {
   "cell_type": "code",
   "execution_count": 8,
   "metadata": {},
   "outputs": [
    {
     "data": {
      "text/plain": [
       "Index(['codecommuneetablissement', 'ambulance', 'analyse_medicale', 'autre',\n",
       "       'autre_specialiste', 'chirurgien', 'dentiste', 'generaliste', 'hopital',\n",
       "       'infirmiers', 'organe', 'radiologiste', 'reeducateur_podologue',\n",
       "       'CODGEO', 'LIBGEO', 'NBMENFISC15', 'NBPERSMENFISC15', 'MED15', 'PIMP15',\n",
       "       'TP6015', 'TP60AGE115', 'TP60AGE215', 'TP60AGE315', 'TP60AGE415',\n",
       "       'TP60AGE515', 'TP60AGE615', 'TP60TOL115', 'TP60TOL215', 'PACT15',\n",
       "       'PTSA15', 'PCHO15', 'PBEN15', 'PPEN15', 'PPAT15', 'PPSOC15', 'PPFAM15',\n",
       "       'PPMINI15', 'PPLOGT15', 'PIMPOT15', 'D115', 'D915', 'RD15', '_merge'],\n",
       "      dtype='object')"
      ]
     },
     "execution_count": 8,
     "metadata": {},
     "output_type": "execute_result"
    }
   ],
   "source": [
    "analyse_df.columns"
   ]
  },
  {
   "cell_type": "markdown",
   "metadata": {},
   "source": [
    "### Nous créons un fichier pour une analyse par département, cela nous paraît plus intuitif de fonctionner par départements pour isoler les effets liés au territoire."
   ]
  },
  {
   "cell_type": "code",
   "execution_count": 9,
   "metadata": {},
   "outputs": [],
   "source": [
    "dept_df = (analyse_df\n",
    "           .dropna(subset=['CODGEO','NBPERSMENFISC15']) #On enlève les NA de codgeo et qd on a pas le nb de personnes\n",
    "          .assign(departement = lambda df: df.CODGEO.str[:2])\n",
    "           .groupby('departement')\n",
    "           [['NBPERSMENFISC15','ambulance', 'analyse_medicale', 'autre',\n",
    "       'autre_specialiste', 'chirurgien', 'dentiste', 'generaliste', 'hopital',\n",
    "       'infirmiers', 'organe', 'radiologiste', 'reeducateur_podologue']]\n",
    "           .sum()\n",
    "          )"
   ]
  },
  {
   "cell_type": "markdown",
   "metadata": {},
   "source": [
    "### Création des variables d'analyse, nombre de professionnels pour 100 000 habitants"
   ]
  },
  {
   "cell_type": "code",
   "execution_count": 10,
   "metadata": {},
   "outputs": [],
   "source": [
    "metiers = ['ambulance','analyse_medicale','autre','autre_specialiste','chirurgien','dentiste',\n",
    "         'generaliste','hopital','infirmiers','organe','radiologiste','reeducateur_podologue']\n",
    "\n",
    "for v in metiers :\n",
    "    dept_df[v + '_100'] = 100000*dept_df[v]/dept_df.NBPERSMENFISC15"
   ]
  },
  {
   "cell_type": "code",
   "execution_count": 11,
   "metadata": {},
   "outputs": [
    {
     "data": {
      "text/plain": [
       "Index(['NBPERSMENFISC15', 'ambulance', 'analyse_medicale', 'autre',\n",
       "       'autre_specialiste', 'chirurgien', 'dentiste', 'generaliste', 'hopital',\n",
       "       'infirmiers', 'organe', 'radiologiste', 'reeducateur_podologue',\n",
       "       'ambulance_100', 'analyse_medicale_100', 'autre_100',\n",
       "       'autre_specialiste_100', 'chirurgien_100', 'dentiste_100',\n",
       "       'generaliste_100', 'hopital_100', 'infirmiers_100', 'organe_100',\n",
       "       'radiologiste_100', 'reeducateur_podologue_100'],\n",
       "      dtype='object')"
      ]
     },
     "execution_count": 11,
     "metadata": {},
     "output_type": "execute_result"
    }
   ],
   "source": [
    "dept_df.columns"
   ]
  },
  {
   "cell_type": "markdown",
   "metadata": {},
   "source": [
    "### Nous souhaitons créer un indice qui regrouperait tous les métiers pour parler de déserts médicaux. Cependant, nous souhaitons accorder un poids plus ou moins important en fonction des spécialités, certaines étant plus sollicitées que d'autres. En suivant ce lien https://www.orientation-pour-tous.fr/metiers-16/secteurs-qui-recrutent/article/cette-synthese-sur-les-metiers-de-la-sante-a, nous remarquons que les infirmiers, généralistes et hopitaux en font partie. Les kinésithérapeutes également, mais les variables ne nous permettent pas de les isoler."
   ]
  },
  {
   "cell_type": "code",
   "execution_count": 12,
   "metadata": {},
   "outputs": [],
   "source": [
    "dept_df['desert'] = ( (1.5*dept_df['generaliste_100']\n",
    "                     +1.5*dept_df['hopital_100']\n",
    "                     +1.5*dept_df['infirmiers_100']\n",
    "                     +1*dept_df['ambulance_100']\n",
    "                     +1*dept_df['radiologiste_100']\n",
    "                     +1*dept_df['analyse_medicale_100']\n",
    "                     +1*dept_df['autre_100']\n",
    "                     +1*dept_df['chirurgien_100']\n",
    "                     +1*dept_df['dentiste_100']\n",
    "                     +1*dept_df['reeducateur_podologue_100']\n",
    "                     +1*dept_df['organe_100']\n",
    "                     +1*dept_df['autre_specialiste_100'])/13.5\n",
    ")\n"
   ]
  },
  {
   "cell_type": "code",
   "execution_count": 13,
   "metadata": {},
   "outputs": [
    {
     "data": {
      "text/plain": [
       "departement\n",
       "01     62.408743\n",
       "02     57.413353\n",
       "03     70.664158\n",
       "04    120.212602\n",
       "05    142.018330\n",
       "06    120.510176\n",
       "07     81.708507\n",
       "08     63.797680\n",
       "09    105.083064\n",
       "10     60.038344\n",
       "11    101.305366\n",
       "12     88.079210\n",
       "13     91.103105\n",
       "14     73.281367\n",
       "15     81.695886\n",
       "16     62.118203\n",
       "17     85.673122\n",
       "18     57.581461\n",
       "19     86.767987\n",
       "21     77.379757\n",
       "22     74.261324\n",
       "23     79.353657\n",
       "24     79.554763\n",
       "25     69.728804\n",
       "26     88.677705\n",
       "27     44.568501\n",
       "28     46.112600\n",
       "29     86.590367\n",
       "2A    148.121687\n",
       "2B    145.415271\n",
       "         ...    \n",
       "67     89.228977\n",
       "68     64.561273\n",
       "69     73.256568\n",
       "70     56.892330\n",
       "71     66.390300\n",
       "72     51.092896\n",
       "73     97.058178\n",
       "74     79.141988\n",
       "75     65.003882\n",
       "76     62.304988\n",
       "77     52.904573\n",
       "78     62.054628\n",
       "79     55.902720\n",
       "80     71.605516\n",
       "81     94.774255\n",
       "82     84.911831\n",
       "83    118.193324\n",
       "84    103.670782\n",
       "85     61.165430\n",
       "86     65.433204\n",
       "87     84.107973\n",
       "88     61.857286\n",
       "89     56.099685\n",
       "90     58.874634\n",
       "91     56.492035\n",
       "92     70.990893\n",
       "93     42.768772\n",
       "94     59.851622\n",
       "95     52.173670\n",
       "97     96.045718\n",
       "Name: desert, Length: 97, dtype: float64"
      ]
     },
     "execution_count": 13,
     "metadata": {},
     "output_type": "execute_result"
    }
   ],
   "source": [
    "dept_df['desert'] # Vérification"
   ]
  },
  {
   "cell_type": "markdown",
   "metadata": {},
   "source": [
    "### Lecture : Dans l'Ain, il y a environ 62 professionels de la santé pour 100 000 personnes."
   ]
  },
  {
   "cell_type": "markdown",
   "metadata": {},
   "source": [
    "# Représentation graphique"
   ]
  },
  {
   "cell_type": "markdown",
   "metadata": {},
   "source": [
    "Nous créons un outil visuel qui représente les indices par départements."
   ]
  },
  {
   "cell_type": "code",
   "execution_count": 14,
   "metadata": {},
   "outputs": [],
   "source": [
    "dept_df['Departement'] = dept_df.index.values"
   ]
  },
  {
   "cell_type": "code",
   "execution_count": 15,
   "metadata": {},
   "outputs": [
    {
     "data": {
      "image/png": "[encoded data removed]",
      "text/plain": [
       "<Figure size 1440x360 with 1 Axes>"
      ]
     },
     "metadata": {
      "needs_background": "light"
     },
     "output_type": "display_data"
    }
   ],
   "source": [
    "fig, ax = plt.subplots(figsize=(20, 5)) \n",
    "fam = sns.barplot(data=dept_df, y='desert', x='Departement')\n",
    "\n",
    "# title and labels\n",
    "plt.title(\"Déserts médicaux par département\")\n",
    "plt.xlabel(\"Départements\")\n",
    "plt.ylabel(\"Indice de désert médical\")\n",
    "plt.grid(True)"
   ]
  },
  {
   "cell_type": "code",
   "execution_count": 16,
   "metadata": {},
   "outputs": [],
   "source": [
    "f = []\n",
    "for v in dept_df.columns : \n",
    "    if v.endswith('ajusté') : \n",
    "        f.append(v)\n",
    "d = dept_df[f]\n",
    "d['somme'] = d.sum(axis=1)"
   ]
  },
  {
   "cell_type": "code",
   "execution_count": 17,
   "metadata": {},
   "outputs": [],
   "source": [
    "x = d['somme'].values.reshape(-1,1) \n",
    "min_max_scaler = preprocessing.MinMaxScaler()\n",
    "x_scaled = min_max_scaler.fit_transform(x)\n",
    "d['score'] = x_scaled"
   ]
  },
  {
   "cell_type": "code",
   "execution_count": 18,
   "metadata": {},
   "outputs": [
    {
     "data": {
      "application/vnd.jupyter.widget-view+json": {
       "model_id": "54ec7d5fef664e50ad2f48bcfdce0da0",
       "version_major": 2,
       "version_minor": 0
      },
      "text/plain": [
       "ToggleButtons(description='Spécialité :', options=('ambulance_100', 'analyse_medicale_100', 'autre_100', 'autr…"
      ]
     },
     "metadata": {},
     "output_type": "display_data"
    },
    {
     "data": {
      "application/vnd.jupyter.widget-view+json": {
       "model_id": "71655ad8a7c446fcbeaabb68e9e0eb3c",
       "version_major": 2,
       "version_minor": 0
      },
      "text/plain": [
       "Select(description='Departement :', options=('01', '02', '03', '04', '05', '06', '07', '08', '09', '10', '11',…"
      ]
     },
     "metadata": {},
     "output_type": "display_data"
    },
    {
     "data": {
      "application/vnd.jupyter.widget-view+json": {
       "model_id": "755e57f646364b38a47d1ab79d794405",
       "version_major": 2,
       "version_minor": 0
      },
      "text/plain": [
       "Button(description=\"Consulter l'indice\", style=ButtonStyle())"
      ]
     },
     "metadata": {},
     "output_type": "display_data"
    },
    {
     "data": {
      "application/vnd.jupyter.widget-view+json": {
       "model_id": "159d486826fc4669b686f62f2e17028a",
       "version_major": 2,
       "version_minor": 0
      },
      "text/plain": [
       "Output()"
      ]
     },
     "metadata": {},
     "output_type": "display_data"
    }
   ],
   "source": [
    "a = widgets.ToggleButtons(\n",
    "                          options = ['ambulance_100',\n",
    "                                     'analyse_medicale_100',\n",
    "                                     'autre_100',\n",
    "                                     'autre_specialiste_100',\n",
    "                                     'chirurgien_100',\n",
    "                                     'dentiste_100',\n",
    "                                     'generaliste_100',\n",
    "                                     'hopital_100',\n",
    "                                     'infirmiers_100',\n",
    "                                     'organe_100',\n",
    "                                     'radiologiste_100',\n",
    "                                     'reeducateur_podologue_100',\n",
    "                                    'desert'],\n",
    "                          description = 'Spécialité :',\n",
    "                          disabled = False,\n",
    "                          button_style = ''\n",
    "                         )\n",
    "b = widgets.Select(\n",
    "                   options = dept_df['Departement'].values.tolist(),\n",
    "                   value = '01',\n",
    "                   description = 'Departement :',\n",
    "                   disabled = False\n",
    "                  )\n",
    "\n",
    "display(a,b)  \n",
    "\n",
    "button = widgets.Button(description=\"Consulter l'indice\")\n",
    "display(button)\n",
    "\n",
    "output = widgets.Output()\n",
    "\n",
    "@output.capture()\n",
    "def on_button_clicked(z):\n",
    "    \n",
    "    sns.barplot(data=dept_df, y=a.value.lower(), x='Departement')\n",
    "    \n",
    "button.on_click(on_button_clicked)\n",
    "display(output)"
   ]
  },
  {
   "cell_type": "code",
   "execution_count": null,
   "metadata": {},
   "outputs": [],
   "source": []
  }
 ],
 "metadata": {
  "kernelspec": {
   "display_name": "Python 3",
   "language": "python",
   "name": "python3"
  },
  "language_info": {
   "codemirror_mode": {
    "name": "ipython",
    "version": 3
   },
   "file_extension": ".py",
   "mimetype": "text/x-python",
   "name": "python",
   "nbconvert_exporter": "python",
   "pygments_lexer": "ipython3",
   "version": "3.6.4"
  }
 },
 "nbformat": 4,
 "nbformat_minor": 2
}
