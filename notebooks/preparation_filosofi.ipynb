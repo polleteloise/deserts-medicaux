{
 "cells": [
  {
   "cell_type": "code",
   "execution_count": 4,
   "metadata": {
    "collapsed": true
   },
   "outputs": [],
   "source": [
    "import os\n",
    "import pandas as pd"
   ]
  },
  {
   "cell_type": "code",
   "execution_count": 2,
   "metadata": {
    "collapsed": true
   },
   "outputs": [],
   "source": [
    "#https://insee.fr/fr/statistiques/3560121"
   ]
  },
  {
   "cell_type": "code",
   "execution_count": 6,
   "metadata": {
    "collapsed": true
   },
   "outputs": [],
   "source": [
    "# déclaration des constantes \n",
    "DATA_DIR = '../data/external/'\n",
    "PROCESSED_DIR = '../data/processed/'\n",
    "\n",
    "CITIES_FILENAME = 'base-cc-filosofi-2015.xls'"
   ]
  },
  {
   "cell_type": "code",
   "execution_count": 7,
   "metadata": {
    "collapsed": true
   },
   "outputs": [],
   "source": [
    "    filo_df= pd.read_excel(os.path.join(DATA_DIR, CITIES_FILENAME),skiprows=5) #pour enlever les libellés inutiles de l'INSEE"
   ]
  },
  {
   "cell_type": "code",
   "execution_count": 8,
   "metadata": {},
   "outputs": [
    {
     "data": {
      "text/plain": [
       "3596"
      ]
     },
     "execution_count": 8,
     "metadata": {},
     "output_type": "execute_result"
    }
   ],
   "source": [
    "filo_df.NBPERSMENFISC15.isnull().sum()"
   ]
  },
  {
   "cell_type": "code",
   "execution_count": 9,
   "metadata": {},
   "outputs": [
    {
     "data": {
      "text/plain": [
       "(35848, 29)"
      ]
     },
     "execution_count": 9,
     "metadata": {},
     "output_type": "execute_result"
    }
   ],
   "source": [
    "filo_df.shape"
   ]
  },
  {
   "cell_type": "code",
   "execution_count": 11,
   "metadata": {},
   "outputs": [
    {
     "data": {
      "text/html": [
       "<div>\n",
       "<style>\n",
       "    .dataframe thead tr:only-child th {\n",
       "        text-align: right;\n",
       "    }\n",
       "\n",
       "    .dataframe thead th {\n",
       "        text-align: left;\n",
       "    }\n",
       "\n",
       "    .dataframe tbody tr th {\n",
       "        vertical-align: top;\n",
       "    }\n",
       "</style>\n",
       "<table border=\"1\" class=\"dataframe\">\n",
       "  <thead>\n",
       "    <tr style=\"text-align: right;\">\n",
       "      <th></th>\n",
       "      <th>CODGEO</th>\n",
       "      <th>LIBGEO</th>\n",
       "      <th>NBMENFISC15</th>\n",
       "      <th>NBPERSMENFISC15</th>\n",
       "      <th>MED15</th>\n",
       "      <th>PIMP15</th>\n",
       "      <th>TP6015</th>\n",
       "      <th>TP60AGE115</th>\n",
       "      <th>TP60AGE215</th>\n",
       "      <th>TP60AGE315</th>\n",
       "      <th>...</th>\n",
       "      <th>PPEN15</th>\n",
       "      <th>PPAT15</th>\n",
       "      <th>PPSOC15</th>\n",
       "      <th>PPFAM15</th>\n",
       "      <th>PPMINI15</th>\n",
       "      <th>PPLOGT15</th>\n",
       "      <th>PIMPOT15</th>\n",
       "      <th>D115</th>\n",
       "      <th>D915</th>\n",
       "      <th>RD15</th>\n",
       "    </tr>\n",
       "  </thead>\n",
       "  <tbody>\n",
       "    <tr>\n",
       "      <th>0</th>\n",
       "      <td>01001</td>\n",
       "      <td>L'Abergement-Clémenciat</td>\n",
       "      <td>308.0</td>\n",
       "      <td>801.0</td>\n",
       "      <td>22228.000000</td>\n",
       "      <td>NaN</td>\n",
       "      <td>NaN</td>\n",
       "      <td>NaN</td>\n",
       "      <td>NaN</td>\n",
       "      <td>NaN</td>\n",
       "      <td>...</td>\n",
       "      <td>NaN</td>\n",
       "      <td>NaN</td>\n",
       "      <td>NaN</td>\n",
       "      <td>NaN</td>\n",
       "      <td>NaN</td>\n",
       "      <td>NaN</td>\n",
       "      <td>NaN</td>\n",
       "      <td>NaN</td>\n",
       "      <td>NaN</td>\n",
       "      <td>NaN</td>\n",
       "    </tr>\n",
       "    <tr>\n",
       "      <th>1</th>\n",
       "      <td>01002</td>\n",
       "      <td>L'Abergement-de-Varey</td>\n",
       "      <td>100.0</td>\n",
       "      <td>245.5</td>\n",
       "      <td>22883.333333</td>\n",
       "      <td>NaN</td>\n",
       "      <td>NaN</td>\n",
       "      <td>NaN</td>\n",
       "      <td>NaN</td>\n",
       "      <td>NaN</td>\n",
       "      <td>...</td>\n",
       "      <td>NaN</td>\n",
       "      <td>NaN</td>\n",
       "      <td>NaN</td>\n",
       "      <td>NaN</td>\n",
       "      <td>NaN</td>\n",
       "      <td>NaN</td>\n",
       "      <td>NaN</td>\n",
       "      <td>NaN</td>\n",
       "      <td>NaN</td>\n",
       "      <td>NaN</td>\n",
       "    </tr>\n",
       "    <tr>\n",
       "      <th>2</th>\n",
       "      <td>01004</td>\n",
       "      <td>Ambérieu-en-Bugey</td>\n",
       "      <td>6216.0</td>\n",
       "      <td>13917.0</td>\n",
       "      <td>19735.200000</td>\n",
       "      <td>53.312962</td>\n",
       "      <td>17.227132</td>\n",
       "      <td>19.058154</td>\n",
       "      <td>20.856552</td>\n",
       "      <td>22.513401</td>\n",
       "      <td>...</td>\n",
       "      <td>26.9</td>\n",
       "      <td>9.5</td>\n",
       "      <td>6.7</td>\n",
       "      <td>2.7</td>\n",
       "      <td>2.0</td>\n",
       "      <td>2.0</td>\n",
       "      <td>-15.8</td>\n",
       "      <td>10398.571429</td>\n",
       "      <td>33801.2</td>\n",
       "      <td>3.250562</td>\n",
       "    </tr>\n",
       "    <tr>\n",
       "      <th>3</th>\n",
       "      <td>01005</td>\n",
       "      <td>Ambérieux-en-Dombes</td>\n",
       "      <td>624.0</td>\n",
       "      <td>1671.5</td>\n",
       "      <td>23182.666667</td>\n",
       "      <td>NaN</td>\n",
       "      <td>NaN</td>\n",
       "      <td>NaN</td>\n",
       "      <td>NaN</td>\n",
       "      <td>NaN</td>\n",
       "      <td>...</td>\n",
       "      <td>NaN</td>\n",
       "      <td>NaN</td>\n",
       "      <td>NaN</td>\n",
       "      <td>NaN</td>\n",
       "      <td>NaN</td>\n",
       "      <td>NaN</td>\n",
       "      <td>NaN</td>\n",
       "      <td>NaN</td>\n",
       "      <td>NaN</td>\n",
       "      <td>NaN</td>\n",
       "    </tr>\n",
       "    <tr>\n",
       "      <th>4</th>\n",
       "      <td>01006</td>\n",
       "      <td>Ambléon</td>\n",
       "      <td>NaN</td>\n",
       "      <td>NaN</td>\n",
       "      <td>NaN</td>\n",
       "      <td>NaN</td>\n",
       "      <td>NaN</td>\n",
       "      <td>NaN</td>\n",
       "      <td>NaN</td>\n",
       "      <td>NaN</td>\n",
       "      <td>...</td>\n",
       "      <td>NaN</td>\n",
       "      <td>NaN</td>\n",
       "      <td>NaN</td>\n",
       "      <td>NaN</td>\n",
       "      <td>NaN</td>\n",
       "      <td>NaN</td>\n",
       "      <td>NaN</td>\n",
       "      <td>NaN</td>\n",
       "      <td>NaN</td>\n",
       "      <td>NaN</td>\n",
       "    </tr>\n",
       "  </tbody>\n",
       "</table>\n",
       "<p>5 rows × 29 columns</p>\n",
       "</div>"
      ],
      "text/plain": [
       "  CODGEO                   LIBGEO  NBMENFISC15  NBPERSMENFISC15         MED15  \\\n",
       "0  01001  L'Abergement-Clémenciat        308.0            801.0  22228.000000   \n",
       "1  01002    L'Abergement-de-Varey        100.0            245.5  22883.333333   \n",
       "2  01004        Ambérieu-en-Bugey       6216.0          13917.0  19735.200000   \n",
       "3  01005      Ambérieux-en-Dombes        624.0           1671.5  23182.666667   \n",
       "4  01006                  Ambléon          NaN              NaN           NaN   \n",
       "\n",
       "      PIMP15     TP6015  TP60AGE115  TP60AGE215  TP60AGE315    ...     PPEN15  \\\n",
       "0        NaN        NaN         NaN         NaN         NaN    ...        NaN   \n",
       "1        NaN        NaN         NaN         NaN         NaN    ...        NaN   \n",
       "2  53.312962  17.227132   19.058154   20.856552   22.513401    ...       26.9   \n",
       "3        NaN        NaN         NaN         NaN         NaN    ...        NaN   \n",
       "4        NaN        NaN         NaN         NaN         NaN    ...        NaN   \n",
       "\n",
       "   PPAT15  PPSOC15  PPFAM15  PPMINI15  PPLOGT15  PIMPOT15          D115  \\\n",
       "0     NaN      NaN      NaN       NaN       NaN       NaN           NaN   \n",
       "1     NaN      NaN      NaN       NaN       NaN       NaN           NaN   \n",
       "2     9.5      6.7      2.7       2.0       2.0     -15.8  10398.571429   \n",
       "3     NaN      NaN      NaN       NaN       NaN       NaN           NaN   \n",
       "4     NaN      NaN      NaN       NaN       NaN       NaN           NaN   \n",
       "\n",
       "      D915      RD15  \n",
       "0      NaN       NaN  \n",
       "1      NaN       NaN  \n",
       "2  33801.2  3.250562  \n",
       "3      NaN       NaN  \n",
       "4      NaN       NaN  \n",
       "\n",
       "[5 rows x 29 columns]"
      ]
     },
     "execution_count": 11,
     "metadata": {},
     "output_type": "execute_result"
    }
   ],
   "source": [
    "filo_df.head()"
   ]
  },
  {
   "cell_type": "code",
   "execution_count": 15,
   "metadata": {},
   "outputs": [
    {
     "data": {
      "text/html": [
       "<div>\n",
       "<style>\n",
       "    .dataframe thead tr:only-child th {\n",
       "        text-align: right;\n",
       "    }\n",
       "\n",
       "    .dataframe thead th {\n",
       "        text-align: left;\n",
       "    }\n",
       "\n",
       "    .dataframe tbody tr th {\n",
       "        vertical-align: top;\n",
       "    }\n",
       "</style>\n",
       "<table border=\"1\" class=\"dataframe\">\n",
       "  <thead>\n",
       "    <tr style=\"text-align: right;\">\n",
       "      <th></th>\n",
       "      <th>CODGEO</th>\n",
       "      <th>LIBGEO</th>\n",
       "      <th>NBMENFISC15</th>\n",
       "      <th>NBPERSMENFISC15</th>\n",
       "      <th>MED15</th>\n",
       "      <th>PIMP15</th>\n",
       "      <th>TP6015</th>\n",
       "      <th>TP60AGE115</th>\n",
       "      <th>TP60AGE215</th>\n",
       "      <th>TP60AGE315</th>\n",
       "      <th>...</th>\n",
       "      <th>PPEN15</th>\n",
       "      <th>PPAT15</th>\n",
       "      <th>PPSOC15</th>\n",
       "      <th>PPFAM15</th>\n",
       "      <th>PPMINI15</th>\n",
       "      <th>PPLOGT15</th>\n",
       "      <th>PIMPOT15</th>\n",
       "      <th>D115</th>\n",
       "      <th>D915</th>\n",
       "      <th>RD15</th>\n",
       "    </tr>\n",
       "  </thead>\n",
       "  <tbody>\n",
       "  </tbody>\n",
       "</table>\n",
       "<p>0 rows × 29 columns</p>\n",
       "</div>"
      ],
      "text/plain": [
       "Empty DataFrame\n",
       "Columns: [CODGEO, LIBGEO, NBMENFISC15, NBPERSMENFISC15, MED15, PIMP15, TP6015, TP60AGE115, TP60AGE215, TP60AGE315, TP60AGE415, TP60AGE515, TP60AGE615, TP60TOL115, TP60TOL215, PACT15, PTSA15, PCHO15, PBEN15, PPEN15, PPAT15, PPSOC15, PPFAM15, PPMINI15, PPLOGT15, PIMPOT15, D115, D915, RD15]\n",
       "Index: []\n",
       "\n",
       "[0 rows x 29 columns]"
      ]
     },
     "execution_count": 15,
     "metadata": {},
     "output_type": "execute_result"
    }
   ],
   "source": [
    "filo_df.loc[filo_df['CODGEO'] == '69390']"
   ]
  },
  {
   "cell_type": "code",
   "execution_count": null,
   "metadata": {
    "collapsed": true
   },
   "outputs": [],
   "source": []
  }
 ],
 "metadata": {
  "kernelspec": {
   "display_name": "Python 3",
   "language": "python",
   "name": "python3"
  },
  "language_info": {
   "codemirror_mode": {
    "name": "ipython",
    "version": 3
   },
   "file_extension": ".py",
   "mimetype": "text/x-python",
   "name": "python",
   "nbconvert_exporter": "python",
   "pygments_lexer": "ipython3",
   "version": "3.6.1"
  }
 },
 "nbformat": 4,
 "nbformat_minor": 2
}
